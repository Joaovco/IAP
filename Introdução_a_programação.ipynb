{
  "nbformat": 4,
  "nbformat_minor": 0,
  "metadata": {
    "colab": {
      "name": "Introdução a programação",
      "provenance": [],
      "collapsed_sections": [],
      "authorship_tag": "ABX9TyNSL/bU8kBAETEbEfj75J8K",
      "include_colab_link": true
    },
    "kernelspec": {
      "name": "python3",
      "display_name": "Python 3"
    }
  },
  "cells": [
    {
      "cell_type": "markdown",
      "metadata": {
        "id": "view-in-github",
        "colab_type": "text"
      },
      "source": [
        "<a href=\"https://colab.research.google.com/github/Joaovco/IAP/blob/master/Introdu%C3%A7%C3%A3o_a_programa%C3%A7%C3%A3o.ipynb\" target=\"_parent\"><img src=\"https://colab.research.google.com/assets/colab-badge.svg\" alt=\"Open In Colab\"/></a>"
      ]
    },
    {
      "cell_type": "code",
      "metadata": {
        "id": "fqQa7_s4IfwR",
        "colab_type": "code",
        "colab": {
          "base_uri": "https://localhost:8080/",
          "height": 51
        },
        "outputId": "e4e5c427-4302-4b07-9970-42141b3f567a"
      },
      "source": [
        "#isto é um comentario\n",
        "print(\"Olá mundo\");\n",
        "\n",
        "#outro comentario\n",
        "print(\"nova linha\");\n"
      ],
      "execution_count": null,
      "outputs": [
        {
          "output_type": "stream",
          "text": [
            "Olá mundo\n",
            "nova linha\n"
          ],
          "name": "stdout"
        }
      ]
    },
    {
      "cell_type": "code",
      "metadata": {
        "id": "YUXceg-QOCxs",
        "colab_type": "code",
        "colab": {
          "base_uri": "https://localhost:8080/",
          "height": 34
        },
        "outputId": "93d12b9a-5e07-4822-b9fe-7db50593d2cc"
      },
      "source": [
        "(63.2 / 1623.2)\n",
        "\n",
        "# + -> adição\n",
        "# - -> subtração\n",
        "# * -> multiplicação\n",
        "# / -> divisão\n",
        "# == -> igualdade\n",
        "# ** -> exponenciação\n",
        "# % -> módulo"
      ],
      "execution_count": null,
      "outputs": [
        {
          "output_type": "execute_result",
          "data": {
            "text/plain": [
              "0.03893543617545589"
            ]
          },
          "metadata": {
            "tags": []
          },
          "execution_count": 77
        }
      ]
    },
    {
      "cell_type": "code",
      "metadata": {
        "id": "VpXN5mw-PPKJ",
        "colab_type": "code",
        "colab": {
          "base_uri": "https://localhost:8080/",
          "height": 34
        },
        "outputId": "1c3be770-c8ac-4384-f674-bb6ea363da42"
      },
      "source": [
        "minha_variavel = \"Olá mundo\"\n",
        "\n",
        "print(minha_variavel)"
      ],
      "execution_count": null,
      "outputs": [
        {
          "output_type": "stream",
          "text": [
            "Olá mundo\n"
          ],
          "name": "stdout"
        }
      ]
    },
    {
      "cell_type": "code",
      "metadata": {
        "id": "ubr7_EJZIZRp",
        "colab_type": "code",
        "colab": {
          "base_uri": "https://localhost:8080/",
          "height": 34
        },
        "outputId": "3a694de4-a472-495e-be24-b19ac900f997"
      },
      "source": [
        "var1 = 1 #variavel inteira\n",
        "var2 = 1.1 #variavel float \n",
        "var3 = \"eu sou uma string\" #variavel string\n",
        "var4 = True #verdadeiro\n",
        "var4 = False #falso\n",
        "\n",
        "print (var4)"
      ],
      "execution_count": null,
      "outputs": [
        {
          "output_type": "stream",
          "text": [
            "False\n"
          ],
          "name": "stdout"
        }
      ]
    },
    {
      "cell_type": "code",
      "metadata": {
        "id": "MG1c9uR2LoTc",
        "colab_type": "code",
        "colab": {
          "base_uri": "https://localhost:8080/",
          "height": 34
        },
        "outputId": "cd98f39f-4c05-4592-8822-d599c39b0252"
      },
      "source": [
        "x=2 \n",
        "y=3\n",
        "\n",
        "soma = x + y\n",
        "\n",
        "print (soma == y + x)"
      ],
      "execution_count": null,
      "outputs": [
        {
          "output_type": "stream",
          "text": [
            "True\n"
          ],
          "name": "stdout"
        }
      ]
    },
    {
      "cell_type": "code",
      "metadata": {
        "id": "ZJ4BGILROuHP",
        "colab_type": "code",
        "colab": {
          "base_uri": "https://localhost:8080/",
          "height": 51
        },
        "outputId": "b0716b8c-00df-4f81-f362-778c4ed37711"
      },
      "source": [
        "#and = duas condições sejam verdadeiras\n",
        "#or = pelo menos uma condição seja verdadeira\n",
        "#not = inverte o valor \n",
        "\n",
        "x = 3 \n",
        "y = 3 \n",
        "z = 4\n",
        "\n",
        "print (x ==y and y == z)\n",
        "print (x == y or y == z)"
      ],
      "execution_count": null,
      "outputs": [
        {
          "output_type": "stream",
          "text": [
            "False\n",
            "True\n"
          ],
          "name": "stdout"
        }
      ]
    },
    {
      "cell_type": "code",
      "metadata": {
        "id": "yQLUX7JoTam-",
        "colab_type": "code",
        "colab": {
          "base_uri": "https://localhost:8080/",
          "height": 34
        },
        "outputId": "84b8c016-2062-4bf9-a3b5-a59f0682efb8"
      },
      "source": [
        "x = 3\n",
        "y = 5 \n",
        "\n",
        "if x > y: \n",
        "  print (\"x é maior que y\")\n",
        "\n",
        "else:\n",
        "  print (\"x não é maior que y\")\n",
        "\n",
        "#como a linha 5 com if não foi executada, a 7 com else foi executada \n",
        "\n",
        "#if y > x:\n",
        "  #print (\"y é maior que x\")"
      ],
      "execution_count": null,
      "outputs": [
        {
          "output_type": "stream",
          "text": [
            "x não é maior que y\n"
          ],
          "name": "stdout"
        }
      ]
    },
    {
      "cell_type": "code",
      "metadata": {
        "id": "5WbdHsWZijR1",
        "colab_type": "code",
        "colab": {
          "base_uri": "https://localhost:8080/",
          "height": 34
        },
        "outputId": "110ad91b-72a7-432d-e6e5-aac40d52f2f1"
      },
      "source": [
        "idade = 20\n",
        "\n",
        "# se idade >= 18\n",
        "if idade >=18:\n",
        "    print (\"maior de idade\")\n",
        "# senão se idade > 0 e idade < 18\n",
        "elif  0<idade<18:\n",
        "    print (\"menor de idade\")\n",
        "# senão\n",
        "else:\n",
        "    print (\"valor invalido\")"
      ],
      "execution_count": null,
      "outputs": [
        {
          "output_type": "stream",
          "text": [
            "maior de idade\n"
          ],
          "name": "stdout"
        }
      ]
    },
    {
      "cell_type": "code",
      "metadata": {
        "id": "i_N0ph3Fixx-",
        "colab_type": "code",
        "colab": {
          "base_uri": "https://localhost:8080/",
          "height": 170
        },
        "outputId": "8f360baa-3a70-4fbc-96e2-6956d3bd3e34"
      },
      "source": [
        "x = 1\n",
        "\n",
        "while x < 10:\n",
        "  print (x)\n",
        "  x = x + 1\n",
        "\n",
        "  #neccessário definir com x + algum valor, senão serão repetidas infinitas vezes\n",
        "  #x = x + 1 == x += 1"
      ],
      "execution_count": null,
      "outputs": [
        {
          "output_type": "stream",
          "text": [
            "1\n",
            "2\n",
            "3\n",
            "4\n",
            "5\n",
            "6\n",
            "7\n",
            "8\n",
            "9\n"
          ],
          "name": "stdout"
        }
      ]
    },
    {
      "cell_type": "code",
      "metadata": {
        "id": "5JKkm6l5ks0J",
        "colab_type": "code",
        "colab": {
          "base_uri": "https://localhost:8080/",
          "height": 85
        },
        "outputId": "e5710dc5-2c66-4170-f418-e5d22213d7ec"
      },
      "source": [
        "lista1 = [1,2,3,4,5]\n",
        "lista2 = [\"ola\",\"mundo\",\"!\"]\n",
        "lista3 = [0, \"ola\",9.99,True]\n",
        "\n",
        "for i in lista3:\n",
        "  print(i)"
      ],
      "execution_count": null,
      "outputs": [
        {
          "output_type": "stream",
          "text": [
            "0\n",
            "ola\n",
            "9.99\n",
            "True\n"
          ],
          "name": "stdout"
        }
      ]
    },
    {
      "cell_type": "code",
      "metadata": {
        "id": "qDQiPewHwg0H",
        "colab_type": "code",
        "colab": {
          "base_uri": "https://localhost:8080/",
          "height": 68
        },
        "outputId": "fbd23686-f712-45f9-9a16-f9dadaaa783d"
      },
      "source": [
        "for i in range(10,20,2):\n",
        "  print (i)"
      ],
      "execution_count": null,
      "outputs": [
        {
          "output_type": "stream",
          "text": [
            "10\n",
            "14\n",
            "18\n"
          ],
          "name": "stdout"
        }
      ]
    },
    {
      "cell_type": "code",
      "metadata": {
        "id": "zuTSWDWNyKVW",
        "colab_type": "code",
        "colab": {}
      },
      "source": [
        "nome = input(\"Digite seu nome:\")\n",
        "\n",
        "print (\"Bem-Vindo \"+nome)\n",
        "\n",
        "#necessário prompit de comando e python 3 "
      ],
      "execution_count": null,
      "outputs": []
    },
    {
      "cell_type": "code",
      "metadata": {
        "id": "yhVAkRnfyy0k",
        "colab_type": "code",
        "colab": {}
      },
      "source": [
        "print (\"----- CALCULADORA -----\")\n",
        "\n",
        "sair = False\n",
        "\n",
        "while == False:\n",
        "\n",
        "  num1 = input (\"Digite o primeiro número: \")\n",
        "  num1 = int(num1)\n",
        "  operador = input (\"Digite o operador (+-/*): \")\n",
        "  num2 = input (\"Digite o segundo número: \")\n",
        "  num2 = int(num2)\n",
        "\n",
        "  # + soma\n",
        "  if operador == \"+\":\n",
        "    operacao = num1 + num2\n",
        "\n",
        "  # - subtração\n",
        "  if operador == \"-\":\n",
        "    operacao = num1 - num2\n",
        "\n",
        "  # / divisão\n",
        "  if operador == \"/\":\n",
        "    operacao = num1 / num2\n",
        "\n",
        "  # * multiplicação\n",
        "  if operador == \"*\":\n",
        "    operacao = num1 * num2 \n",
        "\n",
        "  print (\"resultado: \")\n",
        "  print (operacao)\n",
        "\n",
        "  test = input(\"Deseja sair (n/s): \")\n",
        "  if test == \"s\":\n",
        "    sair = True"
      ],
      "execution_count": null,
      "outputs": []
    },
    {
      "cell_type": "code",
      "metadata": {
        "id": "JmcNv_ckwPp9",
        "colab_type": "code",
        "colab": {}
      },
      "source": [
        ""
      ],
      "execution_count": null,
      "outputs": []
    }
  ]
}